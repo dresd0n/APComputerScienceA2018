{
 "cells": [
  {
   "cell_type": "markdown",
   "metadata": {},
   "source": [
    "# Return Values\n",
    "## AP Computer Science A"
   ]
  },
  {
   "cell_type": "markdown",
   "metadata": {},
   "source": [
    "Today, we'll be learning about how methods can **return** a value.  \n",
    "\n",
    "We already know how to get Java to compute simple equations for us; now we're going to learn how to get Java to give us back those numbers so we can use them elsewhere in our program.\n",
    "\n",
    "- While programmers can manipulate the parameters passed into a method, their code operates on a **copy** of the argument, not the argument itself.\n",
    "- If **int x** is passwed as an argument into an expression as the parameters **int num**, the method may manipulate the values stored in **num**.  When the function returns, **x** will be unchanged."
   ]
  },
  {
   "cell_type": "markdown",
   "metadata": {},
   "source": [
    "Here's the syntax to writing a method that returns that sum of numbers 1-n; first the header:"
   ]
  },
  {
   "cell_type": "code",
   "execution_count": null,
   "metadata": {},
   "outputs": [],
   "source": [
    "// public static double sum(double n)  {"
   ]
  },
  {
   "cell_type": "markdown",
   "metadata": {},
   "source": [
    "Where used to having \"void\" in this spot (after the keyword static) - but void actually means that we're writing a method that we don't expect to return anything.  "
   ]
  },
  {
   "cell_type": "markdown",
   "metadata": {},
   "source": [
    "Here's the method body:"
   ]
  },
  {
   "cell_type": "code",
   "execution_count": null,
   "metadata": {},
   "outputs": [],
   "source": [
    "public static int sum (int n) {\n",
    "   return (n + 1) * n / 2;\n",
    "}"
   ]
  },
  {
   "cell_type": "markdown",
   "metadata": {},
   "source": [
    "Without the special return statement, this wouldn't return a value to the calling method!  It would basicaly be a void method, like the ones we have written before.  It is an error in Java for flow of control to reach the end of the non-void method without a return!"
   ]
  },
  {
   "cell_type": "markdown",
   "metadata": {},
   "source": [
    "This method only makes sense if we have code that can pick up the value that we're asking Java to return, so write code in the cell below that calls the **sum** method with an argument of 100.  **Then use the value that is returned from sum()** in a System.out.println() statement, such that the following output is produced:\n",
    "\n",
    "         The sum of 1 to 100 is 5050"
   ]
  },
  {
   "cell_type": "code",
   "execution_count": null,
   "metadata": {},
   "outputs": [],
   "source": []
  }
 ],
 "metadata": {
  "kernelspec": {
   "display_name": "Java",
   "language": "java",
   "name": "java"
  },
  "language_info": {
   "codemirror_mode": "java",
   "file_extension": ".java",
   "mimetype": "text/x-java-source",
   "name": "Java",
   "pygments_lexer": "java",
   "version": "11.0.1+13-LTS"
  }
 },
 "nbformat": 4,
 "nbformat_minor": 2
}
